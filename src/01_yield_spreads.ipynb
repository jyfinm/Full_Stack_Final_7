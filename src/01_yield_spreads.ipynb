{
 "cells": [
  {
   "cell_type": "markdown",
   "metadata": {},
   "source": [
    "# Replicating the Nozawa Corporate Bond Portfolios from He, Kelly, and Manela (2017)"
   ]
  },
  {
   "cell_type": "markdown",
   "metadata": {},
   "source": [
    "## Imports"
   ]
  },
  {
   "cell_type": "code",
   "execution_count": null,
   "metadata": {},
   "outputs": [],
   "source": [
    "import pull_bondret_treasury\n",
    "import pull_CRSP_bond_returns\n",
    "import pull_he_kelly_manela_factors\n",
    "import calc_nozawa_portfolio\n",
    "import calc_metrics\n",
    "import pandas as pd\n",
    "import numpy as np\n",
    "from misc_tools import *"
   ]
  },
  {
   "cell_type": "code",
   "execution_count": null,
   "metadata": {},
   "outputs": [],
   "source": [
    "from pathlib import Path\n",
    "from settings import config\n",
    "\n",
    "OUTPUT_DIR = Path(config(\"OUTPUT_DIR\"))\n",
    "DATA_DIR = Path(config(\"DATA_DIR\"))"
   ]
  },
  {
   "cell_type": "markdown",
   "metadata": {},
   "source": [
    "## Data Processing"
   ]
  },
  {
   "cell_type": "markdown",
   "metadata": {},
   "source": [
    "Here, we load the data and process it:"
   ]
  },
  {
   "cell_type": "code",
   "execution_count": null,
   "metadata": {},
   "outputs": [],
   "source": [
    "open_df = pull_bondret_treasury.load_bondret_treasury_file(data_dir=DATA_DIR)\n",
    "crsp_df = pull_CRSP_bond_returns.load_bondret(data_dir=DATA_DIR)\n",
    "open_df, crsp_df, merged = calc_nozawa_portfolio.process_all_data(open_df, crsp_df)"
   ]
  },
  {
   "cell_type": "code",
   "execution_count": null,
   "metadata": {},
   "outputs": [],
   "source": [
    "merge_stats(crsp_df, open_df, ['cusip_date'])"
   ]
  },
  {
   "cell_type": "markdown",
   "metadata": {},
   "source": [
    "The data processing also generates the deciles for the 10 corresponding corporate bond portfolios per Nozawa (2017) used by He, Kelly, and Manela (2017)."
   ]
  },
  {
   "cell_type": "code",
   "execution_count": null,
   "metadata": {},
   "outputs": [],
   "source": [
    "merged"
   ]
  },
  {
   "cell_type": "markdown",
   "metadata": {},
   "source": [
    "Now, we can calculate the returns weighted by amount outstanding for each decile:"
   ]
  },
  {
   "cell_type": "code",
   "execution_count": null,
   "metadata": {},
   "outputs": [],
   "source": [
    "portfolio_returns_fwd, decile_returns_df = calc_nozawa_portfolio.calculate_decile_returns(merged)"
   ]
  },
  {
   "cell_type": "markdown",
   "metadata": {},
   "source": [
    "## Analysis"
   ]
  },
  {
   "cell_type": "markdown",
   "metadata": {},
   "source": [
    "We can compare the decile returns to the He, Kelly, and Manela factors, in which they calculated the returns for each Nozawa decile corporate bond portfolio:"
   ]
  },
  {
   "cell_type": "code",
   "execution_count": null,
   "metadata": {},
   "outputs": [],
   "source": [
    "test_df = pull_he_kelly_manela_factors.load_he_kelly_manela_factors(data_dir=DATA_DIR)\n",
    "us_tr_df, us_corp_df = pull_he_kelly_manela_factors.process_he_kelly_manela_factors(test_df)"
   ]
  },
  {
   "cell_type": "code",
   "execution_count": null,
   "metadata": {},
   "outputs": [],
   "source": [
    "us_corp_df.iloc[344:]"
   ]
  },
  {
   "cell_type": "markdown",
   "metadata": {},
   "source": [
    "Our calculated returns are below for comparison."
   ]
  },
  {
   "cell_type": "code",
   "execution_count": null,
   "metadata": {},
   "outputs": [],
   "source": [
    "replication_df, updated_reproduction_df = calc_metrics.split_decile_returns(decile_returns_df, us_corp_df)\n",
    "replication_df"
   ]
  },
  {
   "cell_type": "markdown",
   "metadata": {},
   "source": [
    "Let's take a look at how our replication did:"
   ]
  },
  {
   "cell_type": "code",
   "execution_count": null,
   "metadata": {},
   "outputs": [],
   "source": [
    "analysis_df, benchmark_summary, replicate_summary = calc_metrics.calculate_decile_analysis(decile_returns_df, us_corp_df)\n",
    "analysis_df"
   ]
  },
  {
   "cell_type": "markdown",
   "metadata": {},
   "source": [
    "Summary statistics for the Nozawa portfolios per He, Kelly, and Manela:"
   ]
  },
  {
   "cell_type": "code",
   "execution_count": null,
   "metadata": {},
   "outputs": [],
   "source": [
    "benchmark_summary"
   ]
  },
  {
   "cell_type": "markdown",
   "metadata": {},
   "source": [
    "Summary statistics for our replication of the Nozawa portfolios:"
   ]
  },
  {
   "cell_type": "code",
   "execution_count": null,
   "metadata": {},
   "outputs": [],
   "source": [
    "replicate_summary"
   ]
  },
  {
   "cell_type": "markdown",
   "metadata": {},
   "source": [
    "Now let's take a look at our reproduction of Nozawa updated with current data:"
   ]
  },
  {
   "cell_type": "code",
   "execution_count": null,
   "metadata": {},
   "outputs": [],
   "source": [
    "calc_metrics.plot_cumulative_returns(updated_reproduction_df)"
   ]
  },
  {
   "cell_type": "markdown",
   "metadata": {},
   "source": [
    "This figure illustrates the cumulative returns for each yield-spread decile over time with updated numbers from 2012 - 2024. Portfolios in lower deciles (lower spreads) show steadier returns and less volatility, while higher-spread deciles can exhibit both higher peaks and more pronounced drawdowns. The ordering confirms the risk-return relationship typically associated with yield spreads."
   ]
  },
  {
   "cell_type": "markdown",
   "metadata": {},
   "source": [
    "## Decile Replication Analysis\n",
    "\n",
    "Below is a summary of the replication metrics for portfolios 11 through 20. The table includes:\n",
    "- **Correlation** (Pearson) between each replicated decile return and the benchmark\n",
    "- **R²** (the square of the correlation)\n",
    "- **Slope** and **Intercept** from a simple linear regression of benchmark returns on replicated returns\n",
    "- **MAE** (Mean Absolute Error) and **RMSE** (Root Mean Squared Error)\n",
    "- **Tracking Error** (standard deviation of the difference between benchmark and replicated returns)\n",
    "\n",
    "### Key Observations\n",
    "\n",
    "1. **High Correlation and R²**  \n",
    "   - Most correlation values exceed 0.80, with several deciles at or above 0.90.  \n",
    "   - Corresponding R² values typically range from about 0.65 up to 0.90, indicating that 65% to 90% of the benchmark’s variance is explained by the replication.\n",
    "\n",
    "2. **Slope and Intercept**  \n",
    "   - The **slope** values hover around 0.93 to 1.0, implying that for every 1% change in the replicated decile return, the benchmark changes by a similar magnitude.  \n",
    "   - The **intercept** values are near zero, indicating little to no systematic bias (alpha). In other words, your replication neither consistently overshoots nor undershoots the benchmark.\n",
    "\n",
    "3. **Error Measures**  \n",
    "   - **MAE** (Mean Absolute Error) and **RMSE** (Root Mean Squared Error) are generally below 1% (e.g., in the 0.004–0.01 range). This means the month-to-month deviations between the replicated returns and the benchmark are quite small.  \n",
    "   - The difference between MAE and RMSE is minimal, suggesting there aren’t large outlier months with extreme replication errors.\n",
    "\n",
    "4. **Tracking Error**  \n",
    "   - The **tracking error** (standard deviation of replicated minus benchmark returns) mostly remains under 1% for each decile. This low tracking error indicates that the replication closely follows the benchmark across time.\n",
    "\n",
    "### Overall Assessment\n",
    "\n",
    "- The **strong correlation and high R²** values demonstrate that your replicated decile portfolios move in close lockstep with the benchmark.  \n",
    "- **Slopes near 1** and **Intercepts near 0** imply little systematic bias in the replication process.  \n",
    "- **Low MAE, RMSE, and tracking error** confirm that any month-to-month deviations are small and relatively consistent.\n",
    "\n",
    "In summary, these metrics collectively suggest a **successful replication** of the benchmark decile returns, with only minor residual discrepancies typical of real-world asset pricing data."
   ]
  }
 ],
 "metadata": {
  "language_info": {
   "name": "python"
  }
 },
 "nbformat": 4,
 "nbformat_minor": 2
}
